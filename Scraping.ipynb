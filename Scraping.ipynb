{
 "cells": [
  {
   "cell_type": "code",
   "execution_count": 1,
   "metadata": {},
   "outputs": [
    {
     "name": "stdout",
     "output_type": "stream",
     "text": [
      "Requirement already satisfied: imageio in /Users/jacoblourie/miniconda3/lib/python3.9/site-packages (2.9.0)\n",
      "Requirement already satisfied: pillow in /Users/jacoblourie/miniconda3/lib/python3.9/site-packages (from imageio) (8.2.0)\n",
      "Requirement already satisfied: numpy in /Users/jacoblourie/miniconda3/lib/python3.9/site-packages (from imageio) (1.19.5)\n",
      "Note: you may need to restart the kernel to use updated packages.\n"
     ]
    }
   ],
   "source": [
    "pip install imageio"
   ]
  },
  {
   "cell_type": "code",
   "execution_count": 2,
   "metadata": {},
   "outputs": [],
   "source": [
    "import sys\n",
    "import numpy as np \n",
    "import pandas as pd \n",
    "import requests \n",
    "import json\n",
    "from bs4 import BeautifulSoup as BS\n",
    "import imageio\n",
    "from selenium import webdriver\n",
    "sys.path.append('/Users/jacoblourie')\n",
    "import chromedriver_autoinstaller\n",
    "chromedriver_autoinstaller.install()\n",
    "import time "
   ]
  },
  {
   "cell_type": "code",
   "execution_count": 24,
   "metadata": {},
   "outputs": [],
   "source": [
    "chrome_options = webdriver.ChromeOptions()\n",
    "chrome_options.add_argument('--headless')\n",
    "driver = webdriver.Chrome(options = chrome_options)"
   ]
  },
  {
   "cell_type": "code",
   "execution_count": 5,
   "metadata": {},
   "outputs": [],
   "source": [
    "#this link gets a dictionary\n",
    "def get_search_data(SearchTerm,offset):\n",
    "    link = f'https://api.giphy.com/v1/gifs/search?api_key=pNO36s6y7DvqG22MhOS3EdvyyM9JavcJ&q={SearchTerm}&offset=offset'\n",
    "    resp = requests.get(link)\n",
    "    SearchData = resp.json()\n",
    "    return SearchData"
   ]
  },
  {
   "cell_type": "code",
   "execution_count": 6,
   "metadata": {},
   "outputs": [],
   "source": [
    "#test run\n",
    "SearchTerm = 'Falling'\n",
    "SearchData = get_search_data(SearchTerm,25)"
   ]
  },
  {
   "cell_type": "code",
   "execution_count": 7,
   "metadata": {},
   "outputs": [],
   "source": [
    "#now we get the mp4 link and the title\n",
    "##\n",
    "key = 4\n",
    "\n",
    "#get title and mp4 links\n",
    "def get_mp4link_and_title(GotRequest, key):\n",
    "    orig_mp4link = str(GotRequest['data'][key]['images']['original_mp4']['mp4'])\n",
    "    title = GotRequest['data'][key]['title']\n",
    "    return orig_mp4link, title\n"
   ]
  },
  {
   "cell_type": "code",
   "execution_count": 8,
   "metadata": {},
   "outputs": [
    {
     "name": "stdout",
     "output_type": "stream",
     "text": [
      "Link: https://media2.giphy.com/media/l41m43qH0dTpr0kww/giphy.mp4?cid=cb54c965y885jnehs7ccl4gx7zo6k7w11rom4l7dgdsl6v9x&rid=giphy.mp4&ct=g\n",
      "title: Tired Tv Show GIF by RuPaul's Drag Race S5\n"
     ]
    }
   ],
   "source": [
    "#test run\n",
    "orig_mp4, title = get_mp4link_and_title(SearchData,49)\n",
    "print(f'Link: {orig_mp4}\\ntitle: {title}')"
   ]
  },
  {
   "cell_type": "markdown",
   "metadata": {},
   "source": [
    "#### Where is the image?\n",
    "\n",
    "it's under \"article / div / a / / IMG\"\n",
    "\n"
   ]
  },
  {
   "cell_type": "code",
   "execution_count": 9,
   "metadata": {},
   "outputs": [
    {
     "data": {
      "text/plain": [
       "\"NOTE - sometimes it's the first in the image_1 list, and sometimes it's the second. annoying\""
      ]
     },
     "execution_count": 9,
     "metadata": {},
     "output_type": "execute_result"
    }
   ],
   "source": [
    "#here we take the specific web page we want to search\n",
    "def ExtractImageInBytes(mp4_link):\n",
    "    \n",
    "    #this section gets us a specific link that looks like this \n",
    "    driver.get(mp4_link)\n",
    "    time.sleep(2)\n",
    "    image_sect = driver.find_elements_by_tag_name('img')\n",
    "    image_link = image_sect[0].get_attribute('src')     \n",
    "    if '.svg' in image_link:\n",
    "        image_link = image_sect[1].get_attribute('src') \n",
    "    image_byte_form = requests.get(image_link)\n",
    "    return image_byte_form\n",
    "\n",
    "'''NOTE - sometimes it's the first in the image_1 list, and sometimes it's the second. annoying'''"
   ]
  },
  {
   "cell_type": "code",
   "execution_count": 14,
   "metadata": {},
   "outputs": [],
   "source": [
    "#here we get an image\n",
    "image_byte_form = ExtractImageInBytes(orig_mp4)"
   ]
  },
  {
   "cell_type": "code",
   "execution_count": 18,
   "metadata": {},
   "outputs": [],
   "source": [
    "#this saves the file\n",
    "'''This should really be saving the folder to google cloud, not to drive, folder is classification list, title of image is title from gif.'''\n",
    "#precede every title with it's index. \"143 Man falls into pond\"\n",
    "#frames could be \"143 man falls into pond 12\"\n",
    "\n",
    "def SaveImage(folder, counter, title, image_byte_form):\n",
    "    fname = f'{folder}/{counter} {title}.gif'\n",
    "    with open(fname,\"wb+\") as g:\n",
    "        g.write(image_byte_form.content)"
   ]
  },
  {
   "cell_type": "code",
   "execution_count": 21,
   "metadata": {},
   "outputs": [],
   "source": [
    "#Test run\n",
    "SaveImage('Falling',0,title,image_byte_form)"
   ]
  },
  {
   "cell_type": "markdown",
   "metadata": {},
   "source": [
    "Data Management: \n",
    "\n",
    "#actually creating a loop to get lots of data.\n",
    "\n",
    "#storage of the data - google cloud storage? probably Google Cloud because dominika has free tokens.\n",
    "- initially, decided to store these as Gifs.\n",
    "\n",
    "#get 10 minute tutorial from szymon on branching.\n",
    "\n"
   ]
  },
  {
   "cell_type": "code",
   "execution_count": null,
   "metadata": {},
   "outputs": [],
   "source": [
    "import pathlib\n",
    "def makefolder(SearchTerm):\n",
    "    pathlib.Path(SearchTerm).mkdir(parents=False, exist_ok=True)"
   ]
  },
  {
   "cell_type": "code",
   "execution_count": null,
   "metadata": {},
   "outputs": [],
   "source": [
    "# search_terms = ['Hugging','Fighting','Running','Watching tv','Swimming','Drinking','Rowing','Playing computer game','Cooking']\n",
    "# for SearchTerm in search_terms:\n",
    "#     makefolder(SearchTerm)\n",
    "#try a search term\n",
    "SearchTerm = \"Falling\"\n",
    "#start a counter\n",
    "counter = 0\n",
    "\n",
    "for page in range(100):\n",
    "    try:\n",
    "        SearchData = get_search_data(SearchTerm,offset=page)\n",
    "    except:\n",
    "        print('Couldnt get search data for {offset}')\n",
    "        print(f'Key: {key}, counter: {counter}, page: {page}')      \n",
    "        continue\n",
    "    #iterate over each key in the dict\n",
    "    for key in range(50):\n",
    "        #get file link and title\n",
    "        try:\n",
    "            orig_mp4_link, title = get_mp4link_and_title(SearchData,key)\n",
    "        except:\n",
    "            print(f'couldnt get orig_mp4 or title for {SearchData, key} (search term, key)')\n",
    "            print(f'Key: {key}, counter: {counter}, page: {page}')\n",
    "            counter+=1\n",
    "            continue\n",
    "        #download image\n",
    "        try:\n",
    "            image_byte_form = ExtractImageInBytes(orig_mp4_link)\n",
    "        except:\n",
    "            print(f'Couldnt extract byte form for {orig_mp4_link}')\n",
    "            print(f'Key: {key}, counter: {counter}, page: {page}')      \n",
    "            counter+=1\n",
    "            continue\n",
    "        #save image with title in relevant folder\n",
    "        try:\n",
    "            SaveImage(SearchTerm,counter,title,image_byte_form)\n",
    "        except:\n",
    "            print(f'Couldnt save {title}')\n",
    "            print(f'Key: {key}, counter: {counter}, page: {page}')      \n",
    "            counter+=1\n",
    "            continue\n",
    "        counter+=1"
   ]
  },
  {
   "cell_type": "code",
   "execution_count": 65,
   "metadata": {},
   "outputs": [
    {
     "data": {
      "text/plain": [
       "13"
      ]
     },
     "execution_count": 65,
     "metadata": {},
     "output_type": "execute_result"
    }
   ],
   "source": [
    "key"
   ]
  },
  {
   "cell_type": "markdown",
   "metadata": {},
   "source": [
    "# "
   ]
  }
 ],
 "metadata": {
  "kernelspec": {
   "display_name": "Python 3",
   "language": "python",
   "name": "python3"
  },
  "language_info": {
   "codemirror_mode": {
    "name": "ipython",
    "version": 3
   },
   "file_extension": ".py",
   "mimetype": "text/x-python",
   "name": "python",
   "nbconvert_exporter": "python",
   "pygments_lexer": "ipython3",
   "version": "3.8.5"
  },
  "metadata": {
   "interpreter": {
    "hash": "ae44bc0eae4a697e13956773fab0a10687b55ffe583901dc88e01866ea6f570f"
   }
  }
 },
 "nbformat": 4,
 "nbformat_minor": 4
}
