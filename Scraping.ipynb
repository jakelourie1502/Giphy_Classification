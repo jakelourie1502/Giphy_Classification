{
 "metadata": {
  "language_info": {
   "codemirror_mode": {
    "name": "ipython",
    "version": 3
   },
   "file_extension": ".py",
   "mimetype": "text/x-python",
   "name": "python",
   "nbconvert_exporter": "python",
   "pygments_lexer": "ipython3",
   "version": "3.9"
  },
  "orig_nbformat": 2,
  "kernelspec": {
   "name": "pythonjvsc74a57bd0ae44bc0eae4a697e13956773fab0a10687b55ffe583901dc88e01866ea6f570f",
   "display_name": "Python 3.9  ('base': conda)"
  },
  "metadata": {
   "interpreter": {
    "hash": "ae44bc0eae4a697e13956773fab0a10687b55ffe583901dc88e01866ea6f570f"
   }
  }
 },
 "nbformat": 4,
 "nbformat_minor": 2,
 "cells": [
  {
   "cell_type": "code",
   "execution_count": 1,
   "metadata": {},
   "outputs": [
    {
     "output_type": "stream",
     "name": "stdout",
     "text": [
      "Requirement already satisfied: imageio in /Users/jacoblourie/miniconda3/lib/python3.9/site-packages (2.9.0)\n",
      "Requirement already satisfied: pillow in /Users/jacoblourie/miniconda3/lib/python3.9/site-packages (from imageio) (8.2.0)\n",
      "Requirement already satisfied: numpy in /Users/jacoblourie/miniconda3/lib/python3.9/site-packages (from imageio) (1.19.5)\n",
      "Note: you may need to restart the kernel to use updated packages.\n"
     ]
    }
   ],
   "source": [
    "pip install imageio"
   ]
  },
  {
   "cell_type": "code",
   "execution_count": 95,
   "metadata": {},
   "outputs": [],
   "source": [
    "import numpy as np \n",
    "import pandas as pd \n",
    "import requests \n",
    "import json\n",
    "from bs4 import BeautifulSoup as BS\n",
    "import imageio\n",
    "from selenium import webdriver\n",
    "sys.path.append('/Users/jacoblourie')\n",
    "import chromedriver_autoinstaller\n",
    "chromedriver_autoinstaller.install()\n",
    "import time "
   ]
  },
  {
   "cell_type": "code",
   "execution_count": 96,
   "metadata": {},
   "outputs": [],
   "source": [
    "chrome_options = webdriver.ChromeOptions()\n",
    "# chrome_options.add_argument('--headless')"
   ]
  },
  {
   "cell_type": "code",
   "execution_count": 89,
   "metadata": {},
   "outputs": [
    {
     "output_type": "execute_result",
     "data": {
      "text/plain": [
       "<Response [200]>"
      ]
     },
     "metadata": {},
     "execution_count": 89
    }
   ],
   "source": [
    "#This link gets a lot of json files in image form\n",
    "link = 'https://api.giphy.com/v1/gifs/search?api_key=pNO36s6y7DvqG22MhOS3EdvyyM9JavcJ&q=man falls over'\n",
    "resp = requests.get(link)\n",
    "resp"
   ]
  },
  {
   "cell_type": "code",
   "execution_count": 93,
   "metadata": {},
   "outputs": [
    {
     "output_type": "stream",
     "name": "stdout",
     "text": [
      "Link: https://media0.giphy.com/media/fYkR51nnX2I6gJG0Bh/giphy.mp4?cid=cb54c9654pbmzcd0tkj47agplp2rkiq7yk4hf9d0bta6ryxe&rid=giphy.mp4&ct=g\ntitle: Fall Over Man Down GIF by MotoGP\n"
     ]
    }
   ],
   "source": [
    "'''These are the two bits we want'''\n",
    "##\n",
    "key = 4\n",
    "one_link = resp.json()\n",
    "#get title and mp4 linke\n",
    "orig_mp4 = str(one_link['data'][key]['images']['original_mp4']['mp4'])\n",
    "title = one_link['data'][key]['title']\n",
    "\n",
    "print(f'Link: {orig_mp4}\\ntitle: {title}')"
   ]
  },
  {
   "cell_type": "code",
   "execution_count": 100,
   "metadata": {},
   "outputs": [],
   "source": [
    "driver = webdriver.Chrome()"
   ]
  },
  {
   "source": [
    "#### Where is the image?\n",
    "\n",
    "it's under \"article / div / a / / IMG\"\n",
    "\n"
   ],
   "cell_type": "markdown",
   "metadata": {}
  },
  {
   "cell_type": "code",
   "execution_count": 102,
   "metadata": {},
   "outputs": [
    {
     "output_type": "stream",
     "name": "stdout",
     "text": [
      "https://media0.giphy.com/static/img/embeds/verified-badge.svg\nhttps://i.giphy.com/fYkR51nnX2I6gJG0Bh.gif\n"
     ]
    }
   ],
   "source": [
    "#here we take the specific web page we want to search\n",
    "\n",
    "#this section gets us a specific link that looks like this \n",
    "driver.get(orig_mp4)\n",
    "time.sleep(2)\n",
    "image_1 = driver.find_elements_by_tag_name('img')\n",
    "image_file_1 = image_1[0].get_attribute('src') \n",
    "print(image_file_1)\n",
    "if '.svg' in image_file_1:\n",
    "    image_file_1 = image_1[1].get_attribute('src') \n",
    "    print(image_file_1)\n",
    "image_byte_form = requests.get(image_file_1)\n",
    "#NOTE - sometimes it's the first in the image_1 list, and sometimes it's the second. annoying"
   ]
  },
  {
   "cell_type": "code",
   "execution_count": 105,
   "metadata": {},
   "outputs": [],
   "source": [
    "#this saves the file\n",
    "'''This should really be saving the folder to google cloud, not to drive, folder is classification list, title of image is title from gif.'''\n",
    "#precede every title with it's index. \"143 Man falls into pond\"\n",
    "#frames could be \"143 man falls into pond 12\"\n",
    "\n",
    "fname = \"sample.gif\"\n",
    "def save_image_to_file(fname, image_byte_form):\n",
    "    with open(fname,\"wb+\") as g:\n",
    "        g.write(image_byte_form.content)\n",
    "\n",
    "save_image_to_file(fname,image_byte_form)"
   ]
  },
  {
   "source": [
    "Data Management: \n",
    "\n",
    "#actually creating a loop to get lots of data.\n",
    "\n",
    "#storage of the data - google cloud storage? probably Google Cloud because dominika has free tokens.\n",
    "- initially, decided to store these as Gifs.\n",
    "\n",
    "#get 10 minute tutorial from szymon on branching.\n",
    "\n"
   ],
   "cell_type": "markdown",
   "metadata": {}
  },
  {
   "cell_type": "code",
   "execution_count": null,
   "metadata": {},
   "outputs": [],
   "source": []
  }
 ]
}